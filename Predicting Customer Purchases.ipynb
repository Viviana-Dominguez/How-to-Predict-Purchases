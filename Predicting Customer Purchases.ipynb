{
 "cells": [
  {
   "cell_type": "markdown",
   "id": "67065ba3-366a-4275-ba63-22c0e066d136",
   "metadata": {},
   "source": [
    "# E-Commerce Insights: Predicting Customer Purchases"
   ]
  },
  {
   "cell_type": "markdown",
   "id": "fe2cbf96-ad4d-4165-8981-1b301108f5bc",
   "metadata": {
    "collapsed": false,
    "jupyter": {
     "outputs_hidden": false,
     "source_hidden": false
    }
   },
   "source": [
    "In this analysis, we aim to explore how customer interactions with online store content influence their purchasing decisions. The dataset provided comes from a startup's newly launched e-commerce platform, and my role as a data scientist is to analyze the shopping behavior of online customers. The marketing team has requested insights into user browsing patterns during November and December, the peak shopping months of the year. To address this, I focused on two key customer segments: those with lower purchase rates and returning customers. By examining these groups, we can estimate the likelihood of making a purchase during an upcoming marketing campaign, helping the team assess the potential success of next year's sales strategies.\n",
    "\n",
    "### Dataset Overview:\n",
    "The dataset, online_shopping_session_data.csv, contains detailed information for each unique shopping session, with various columns representing user actions and session characteristics.\n",
    "\n",
    "|Column|Description|\n",
    "|--------|-----------|\n",
    "|`SessionID`|unique session ID|\n",
    "|`Administrative`|number of pages visited related to the customer account|\n",
    "|`Administrative_Duration`|total amount of time spent (in seconds) on administrative pages|\n",
    "|`Informational`|number of pages visited related to the website and the company|\n",
    "|`Informational_Duration`|total amount of time spent (in seconds) on informational pages|\n",
    "|`ProductRelated`|number of pages visited related to available products|\n",
    "|`ProductRelated_Duration`|total amount of time spent (in seconds) on product-related pages|\n",
    "|`BounceRates`|average bounce rate of pages visited by the customer|\n",
    "|`ExitRates`|average exit rate of pages visited by the customer|\n",
    "|`PageValues`|average page value of pages visited by the customer|\n",
    "|`SpecialDay`|closeness of the site visiting time to a specific special day|\n",
    "|`Weekend`|indicator whether the session is on a weekend|\n",
    "|`Month`|month of the session date|\n",
    "|`CustomerType`|customer type|\n",
    "|`Purchase`|class label whether the customer make a purchase|"
   ]
  },
  {
   "cell_type": "markdown",
   "id": "8a231556-2b88-42dc-85ac-c519e6c84a4d",
   "metadata": {},
   "source": [
    "## Step 1: Load and Explore the Data\n",
    "The first step involves loading the data to familiarize yourself with the columns and values. We need to verify that the dataset contains relevant information such as session details, customer type, and purchase decisions.\n",
    "\n",
    "**Tip:**\n",
    "Always check the dataset’s structure before starting any analysis, so you know which variables you’ll be working with."
   ]
  },
  {
   "cell_type": "code",
   "execution_count": 27,
   "id": "b841fb9f-4e70-4796-9f35-7c6bbba3cca2",
   "metadata": {
    "chartConfig": {
     "bar": {
      "hasRoundedCorners": true,
      "stacked": false
     },
     "type": "bar",
     "version": "v1"
    },
    "executionCancelledAt": null,
    "executionTime": 54,
    "lastExecutedAt": 1727832523969,
    "lastExecutedByKernel": "4e0446da-1c01-4965-9e2a-72486c4cb409",
    "lastScheduledRunId": null,
    "lastSuccessfullyExecutedCode": "# Import required libraries\nimport pandas as pd\nimport numpy as np\nimport matplotlib.pyplot as plt\nfrom scipy import stats\n\n# Load and view your data\nshopping_data = pd.read_csv(\"online_shopping_session_data.csv\")\nshopping_data.head()",
    "outputsMetadata": {
     "0": {
      "height": 239,
      "type": "dataFrame"
     }
    },
    "visualizeDataframe": false
   },
   "outputs": [
    {
     "data": {
      "text/html": [
       "<div>\n",
       "<style scoped>\n",
       "    .dataframe tbody tr th:only-of-type {\n",
       "        vertical-align: middle;\n",
       "    }\n",
       "\n",
       "    .dataframe tbody tr th {\n",
       "        vertical-align: top;\n",
       "    }\n",
       "\n",
       "    .dataframe thead th {\n",
       "        text-align: right;\n",
       "    }\n",
       "</style>\n",
       "<table border=\"1\" class=\"dataframe\">\n",
       "  <thead>\n",
       "    <tr style=\"text-align: right;\">\n",
       "      <th></th>\n",
       "      <th>SessionID</th>\n",
       "      <th>Administrative</th>\n",
       "      <th>Administrative_Duration</th>\n",
       "      <th>Informational</th>\n",
       "      <th>Informational_Duration</th>\n",
       "      <th>ProductRelated</th>\n",
       "      <th>ProductRelated_Duration</th>\n",
       "      <th>BounceRates</th>\n",
       "      <th>ExitRates</th>\n",
       "      <th>PageValues</th>\n",
       "      <th>SpecialDay</th>\n",
       "      <th>Weekend</th>\n",
       "      <th>Month</th>\n",
       "      <th>CustomerType</th>\n",
       "      <th>Purchase</th>\n",
       "    </tr>\n",
       "  </thead>\n",
       "  <tbody>\n",
       "    <tr>\n",
       "      <th>0</th>\n",
       "      <td>1</td>\n",
       "      <td>0</td>\n",
       "      <td>0.0</td>\n",
       "      <td>0</td>\n",
       "      <td>0.0</td>\n",
       "      <td>1</td>\n",
       "      <td>0.000000</td>\n",
       "      <td>0.20</td>\n",
       "      <td>0.20</td>\n",
       "      <td>0.0</td>\n",
       "      <td>0.0</td>\n",
       "      <td>False</td>\n",
       "      <td>Feb</td>\n",
       "      <td>Returning_Customer</td>\n",
       "      <td>0.0</td>\n",
       "    </tr>\n",
       "    <tr>\n",
       "      <th>1</th>\n",
       "      <td>2</td>\n",
       "      <td>0</td>\n",
       "      <td>0.0</td>\n",
       "      <td>0</td>\n",
       "      <td>0.0</td>\n",
       "      <td>2</td>\n",
       "      <td>64.000000</td>\n",
       "      <td>0.00</td>\n",
       "      <td>0.10</td>\n",
       "      <td>0.0</td>\n",
       "      <td>0.0</td>\n",
       "      <td>False</td>\n",
       "      <td>Feb</td>\n",
       "      <td>Returning_Customer</td>\n",
       "      <td>0.0</td>\n",
       "    </tr>\n",
       "    <tr>\n",
       "      <th>2</th>\n",
       "      <td>3</td>\n",
       "      <td>0</td>\n",
       "      <td>0.0</td>\n",
       "      <td>0</td>\n",
       "      <td>0.0</td>\n",
       "      <td>1</td>\n",
       "      <td>0.000000</td>\n",
       "      <td>0.20</td>\n",
       "      <td>0.20</td>\n",
       "      <td>0.0</td>\n",
       "      <td>0.0</td>\n",
       "      <td>False</td>\n",
       "      <td>Feb</td>\n",
       "      <td>Returning_Customer</td>\n",
       "      <td>0.0</td>\n",
       "    </tr>\n",
       "    <tr>\n",
       "      <th>3</th>\n",
       "      <td>4</td>\n",
       "      <td>0</td>\n",
       "      <td>0.0</td>\n",
       "      <td>0</td>\n",
       "      <td>0.0</td>\n",
       "      <td>2</td>\n",
       "      <td>2.666667</td>\n",
       "      <td>0.05</td>\n",
       "      <td>0.14</td>\n",
       "      <td>0.0</td>\n",
       "      <td>0.0</td>\n",
       "      <td>False</td>\n",
       "      <td>Feb</td>\n",
       "      <td>Returning_Customer</td>\n",
       "      <td>0.0</td>\n",
       "    </tr>\n",
       "    <tr>\n",
       "      <th>4</th>\n",
       "      <td>5</td>\n",
       "      <td>0</td>\n",
       "      <td>0.0</td>\n",
       "      <td>0</td>\n",
       "      <td>0.0</td>\n",
       "      <td>10</td>\n",
       "      <td>627.500000</td>\n",
       "      <td>0.02</td>\n",
       "      <td>0.05</td>\n",
       "      <td>0.0</td>\n",
       "      <td>0.0</td>\n",
       "      <td>True</td>\n",
       "      <td>Feb</td>\n",
       "      <td>Returning_Customer</td>\n",
       "      <td>0.0</td>\n",
       "    </tr>\n",
       "  </tbody>\n",
       "</table>\n",
       "</div>"
      ],
      "text/plain": [
       "   SessionID  Administrative  Administrative_Duration  Informational  \\\n",
       "0          1               0                      0.0              0   \n",
       "1          2               0                      0.0              0   \n",
       "2          3               0                      0.0              0   \n",
       "3          4               0                      0.0              0   \n",
       "4          5               0                      0.0              0   \n",
       "\n",
       "   Informational_Duration  ProductRelated  ProductRelated_Duration  \\\n",
       "0                     0.0               1                 0.000000   \n",
       "1                     0.0               2                64.000000   \n",
       "2                     0.0               1                 0.000000   \n",
       "3                     0.0               2                 2.666667   \n",
       "4                     0.0              10               627.500000   \n",
       "\n",
       "   BounceRates  ExitRates  PageValues  SpecialDay  Weekend Month  \\\n",
       "0         0.20       0.20         0.0         0.0    False   Feb   \n",
       "1         0.00       0.10         0.0         0.0    False   Feb   \n",
       "2         0.20       0.20         0.0         0.0    False   Feb   \n",
       "3         0.05       0.14         0.0         0.0    False   Feb   \n",
       "4         0.02       0.05         0.0         0.0     True   Feb   \n",
       "\n",
       "         CustomerType  Purchase  \n",
       "0  Returning_Customer       0.0  \n",
       "1  Returning_Customer       0.0  \n",
       "2  Returning_Customer       0.0  \n",
       "3  Returning_Customer       0.0  \n",
       "4  Returning_Customer       0.0  "
      ]
     },
     "execution_count": 27,
     "metadata": {},
     "output_type": "execute_result"
    }
   ],
   "source": [
    "# Import required libraries\n",
    "import pandas as pd\n",
    "import numpy as np\n",
    "import matplotlib.pyplot as plt\n",
    "from scipy import stats\n",
    "\n",
    "# Load and view your data\n",
    "shopping_data = pd.read_csv(\"online_shopping_session_data.csv\")\n",
    "shopping_data.head()"
   ]
  },
  {
   "cell_type": "markdown",
   "id": "345be544-8422-48a5-9b0e-309dd0d253cc",
   "metadata": {},
   "source": [
    "## Step 2: Filter Data for November and December\n",
    "Since the marketing team is interested in the busiest shopping months, we narrow down the dataset to only November and December. This step is crucial for focusing the analysis on the time frame of interest.\n",
    "\n",
    "**Tip:** Always tailor your dataset to the specific time periods or user groups that align with your business goals or research questions."
   ]
  },
  {
   "cell_type": "code",
   "execution_count": 29,
   "id": "0c93aca5-5c27-4ca4-b070-7db95788f161",
   "metadata": {
    "executionCancelledAt": null,
    "executionTime": 49,
    "lastExecutedAt": 1727832245822,
    "lastExecutedByKernel": "4e0446da-1c01-4965-9e2a-72486c4cb409",
    "lastScheduledRunId": null,
    "lastSuccessfullyExecutedCode": "# Step 1: Subset the data to include only November and December sessions\nnov_dec_data = shopping_data[shopping_data['Month'].isin(['Nov', 'Dec'])]\n\n# Step 2: Group by 'CustomerType' and calculate total sessions and purchases\npurchase_rates = nov_dec_data.groupby('CustomerType')['Purchase'].agg(\n    total_sessions='size',  # Count of sessions\n    total_purchases='sum'   # Count of purchases (since Purchase is binary, sum will give total purchases)\n)\n\n# Step 3: Calculate the purchase rates\npurchase_rates['purchase_rate'] = purchase_rates['total_purchases'] / purchase_rates['total_sessions']\n\n# Convert to dictionary format\npurchase_rates = {\n    \"Returning_Customer\": purchase_rates.loc['Returning_Customer', 'purchase_rate'],\n    \"New_Customer\": purchase_rates.loc['New_Customer', 'purchase_rate']\n}\n\nprint(purchase_rates)",
    "outputsMetadata": {
     "0": {
      "height": 38,
      "type": "stream"
     }
    }
   },
   "outputs": [],
   "source": [
    "# Subset the data to include only November and December sessions\n",
    "nov_dec_data = shopping_data[shopping_data['Month'].isin(['Nov', 'Dec'])]"
   ]
  },
  {
   "cell_type": "markdown",
   "id": "f7a20a1b-370f-43da-800e-b6b4dd94fb47",
   "metadata": {},
   "source": [
    "## Step 3: Calculate Purchase Rates by Customer Type\n",
    "The goal is to calculate the purchase rates for both returning and new customers during November and December. By grouping by customer type and calculating the proportion of purchases, we can determine their likelihood to make a purchase.\n",
    "\n",
    "**Tip:** Always aggregate your data based on relevant variables, such as customer type, to draw actionable insights about user behavior."
   ]
  },
  {
   "cell_type": "code",
   "execution_count": 31,
   "id": "5c2e4d57-a6a9-44da-ae8a-7d5ec7b7a96b",
   "metadata": {},
   "outputs": [
    {
     "name": "stdout",
     "output_type": "stream",
     "text": [
      "{'Returning_Customer': 0.1955937667920473, 'New_Customer': 0.2733516483516483}\n"
     ]
    }
   ],
   "source": [
    "# Group by 'CustomerType' and calculate total sessions and purchases\n",
    "purchase_rates = nov_dec_data.groupby('CustomerType')['Purchase'].agg(\n",
    "    total_sessions='size',  # Count of sessions\n",
    "    total_purchases='sum'   # Count of purchases (since Purchase is binary, sum will give total purchases)\n",
    ")\n",
    "\n",
    "# Calculate the purchase rates\n",
    "purchase_rates['purchase_rate'] = purchase_rates['total_purchases'] / purchase_rates['total_sessions']\n",
    "\n",
    "# Convert to dictionary format\n",
    "purchase_rates = {\n",
    "    \"Returning_Customer\": purchase_rates.loc['Returning_Customer', 'purchase_rate'],\n",
    "    \"New_Customer\": purchase_rates.loc['New_Customer', 'purchase_rate']\n",
    "}\n",
    "\n",
    "print(purchase_rates)"
   ]
  },
  {
   "cell_type": "markdown",
   "id": "94ad4895-79fe-4f7b-915f-275aa4b4d568",
   "metadata": {},
   "source": [
    "### Insights\n",
    "* **Returning Customers:**\n",
    "The purchase rate for returning customers during November and December is around 19.6%. This indicates that about 1 in 5 returning customers is likely to make a purchase.\n",
    "\n",
    "* **New Customers:**\n",
    "New customers have a higher purchase rate of approximately 27.3%, meaning that over 1 in 4 new customers is making a purchase during this time.\n",
    "\n",
    "* **Key Takeaway:**\n",
    "The data suggests that new customers are more likely to make a purchase than returning customers during the busy shopping months of November and December. This could be due to a higher level of curiosity and exploration among new users, or possibly targeted promotional efforts aimed at new customers."
   ]
  },
  {
   "cell_type": "markdown",
   "id": "b8ffe2f8-3eba-4d97-8cdf-76b059cb7da5",
   "metadata": {},
   "source": [
    "## Step 4: Identify the Strongest Correlation Among Duration Variables\n",
    "We aim to identify which types of pages users spend the most correlated time on. This can help us understand user behavior patterns. The stronger the correlation, the more connected the page engagement behaviors are.\n",
    "\n",
    "**Tip:** Use correlations to uncover hidden relationships between user interactions. These insights could guide improvements to website navigation or content placement."
   ]
  },
  {
   "cell_type": "code",
   "execution_count": 41,
   "id": "bbf184a1-23d9-4104-8f0d-afc6c554a051",
   "metadata": {
    "executionCancelledAt": null,
    "executionTime": 52,
    "lastExecutedAt": 1727832245874,
    "lastExecutedByKernel": "4e0446da-1c01-4965-9e2a-72486c4cb409",
    "lastScheduledRunId": null,
    "lastSuccessfullyExecutedCode": "# Step 1: Subset the data for November and December\nnov_dec_data = shopping_data[shopping_data['Month'].isin(['Nov', 'Dec'])]\n\n# Step 2: Select the relevant duration columns\nduration_data = nov_dec_data[['Administrative_Duration', 'Informational_Duration', 'ProductRelated_Duration']]\n\n# Step 3: Calculate the correlations between each pair of duration variables\nadmin_info_corr = duration_data['Administrative_Duration'].corr(duration_data['Informational_Duration'])\nadmin_prod_corr = duration_data['Administrative_Duration'].corr(duration_data['ProductRelated_Duration'])\ninfo_prod_corr = duration_data['Informational_Duration'].corr(duration_data['ProductRelated_Duration'])\n\n# Step 4: Store the correlations in a dictionary for easy comparison\ncorrelation_dict = {\n    ('Administrative_Duration', 'Informational_Duration'): admin_info_corr,\n    ('Administrative_Duration', 'ProductRelated_Duration'): admin_prod_corr,\n    ('Informational_Duration', 'ProductRelated_Duration'): info_prod_corr\n}\n\n# Step 5: Find the pair with the strongest correlation\nstrongest_pair = max(correlation_dict, key=correlation_dict.get)\nstrongest_correlation = correlation_dict[strongest_pair]\n\n# Step 6: Save the result in the required format\ntop_correlation = {\n    \"pair\": strongest_pair,\n    \"correlation\": strongest_correlation\n}\n\nprint(top_correlation)",
    "outputsMetadata": {
     "0": {
      "height": 38,
      "type": "stream"
     }
    }
   },
   "outputs": [
    {
     "name": "stdout",
     "output_type": "stream",
     "text": [
      "{'pair': ('Administrative_Duration', 'ProductRelated_Duration'), 'correlation': 0.38985460032069624}\n"
     ]
    }
   ],
   "source": [
    "# Subset the data for November and December\n",
    "nov_dec_data = shopping_data[shopping_data['Month'].isin(['Nov', 'Dec'])]\n",
    "\n",
    "# Select the relevant duration columns\n",
    "duration_data = nov_dec_data[['Administrative_Duration', 'Informational_Duration', 'ProductRelated_Duration']]\n",
    "\n",
    "# Calculate the correlations between each pair of duration variables\n",
    "admin_info_corr = duration_data['Administrative_Duration'].corr(duration_data['Informational_Duration'])\n",
    "admin_prod_corr = duration_data['Administrative_Duration'].corr(duration_data['ProductRelated_Duration'])\n",
    "info_prod_corr = duration_data['Informational_Duration'].corr(duration_data['ProductRelated_Duration'])\n",
    "\n",
    "# tore the correlations in a dictionary for easy comparison\n",
    "correlation_dict = {\n",
    "    ('Administrative_Duration', 'Informational_Duration'): admin_info_corr,\n",
    "    ('Administrative_Duration', 'ProductRelated_Duration'): admin_prod_corr,\n",
    "    ('Informational_Duration', 'ProductRelated_Duration'): info_prod_corr\n",
    "}\n",
    "\n",
    "# Find the pair with the strongest correlation\n",
    "strongest_pair = max(correlation_dict, key=correlation_dict.get)\n",
    "strongest_correlation = correlation_dict[strongest_pair]\n",
    "\n",
    "# Save the result in the required format\n",
    "top_correlation = {\n",
    "    \"pair\": strongest_pair,\n",
    "    \"correlation\": strongest_correlation\n",
    "}\n",
    "\n",
    "print(top_correlation)"
   ]
  },
  {
   "cell_type": "markdown",
   "id": "4ce072ad-4148-4a1b-aef4-4e9b50d3c648",
   "metadata": {},
   "source": [
    "### Insights:\n",
    "* **Strongest Correlation:**\n",
    "The strongest correlation found was between the Administrative_Duration and ProductRelated_Duration, with a correlation coefficient of 0.39.\n",
    "\n",
    "* **What This Means:**\n",
    "Although the correlation is moderate, it suggests that when users spend more time on administrative pages (e.g., account-related tasks), they also tend to spend more time browsing product-related pages. This may indicate that users are engaging in more comprehensive shopping behavior, managing their accounts and browsing products during the same session.\n",
    "\n",
    "* **Key Takeaway:**\n",
    "Enhancing the user experience on administrative pages (such as simplifying account management) could potentially improve engagement with product-related pages, ultimately driving more purchases."
   ]
  },
  {
   "cell_type": "markdown",
   "id": "21e8b9fb-dcf8-42e9-8def-00c7235a7bc4",
   "metadata": {},
   "source": [
    "## Step 5: Calculate the Binomial Probability of Sales\n",
    "After boosting the purchase rate by 15%, we calculate the probability of making at least 100 sales out of 500 sessions using a binomial distribution. This provides insights into the success of the marketing campaign.\n",
    "\n",
    "**Tip:** Binomial probability is useful when analyzing binary outcomes (e.g., purchase vs. no purchase). Always consider cumulative probabilities to calculate the likelihood of reaching certain targets.\n",
    "\n",
    "### Optional: Plot the Binomial Probability Distribution\n",
    "Visualizing the distribution of sales helps better understand where most of the probability lies and gives stakeholders a clearer picture of campaign outcomes.\n",
    "\n",
    "**Tip:** Visualizing your data is often more impactful than raw numbers, especially when communicating insights to non-technical stakeholders."
   ]
  },
  {
   "cell_type": "code",
   "execution_count": 33,
   "id": "af0013d3-fa95-42e1-b0d4-e2b7e630c556",
   "metadata": {
    "executionCancelledAt": null,
    "executionTime": 946,
    "lastExecutedAt": 1727832246820,
    "lastExecutedByKernel": "4e0446da-1c01-4965-9e2a-72486c4cb409",
    "lastScheduledRunId": null,
    "lastSuccessfullyExecutedCode": "from scipy.stats import binom\n\n# Step 1: Calculate the improved purchase rate for returning customers\ncurrent_purchase_rate = 0.195594  # From Step 1 results\nimproved_purchase_rate = current_purchase_rate * 1.15\n\n# Step 2: Define the number of sessions and the target sales\nn_sessions = 500\nk_sales = 100\n\n# Step 3: Calculate the cumulative probability of having 100 or fewer sales\nprob_less_than_100 = binom.cdf(k_sales, n_sessions, improved_purchase_rate)\n\n# Step 4: Calculate the probability of having at least 100 sales\nprob_at_least_100_sales = 1 - prob_less_than_100\n\nprint(f\"Probability of at least 100 sales: {prob_at_least_100_sales}\")\n\n# Optional: Plot the binomial probability distribution (optional)\nimport matplotlib.pyplot as plt\nk_values = range(1, n_sessions + 1)\nbinom_probs = [binom.pmf(k, n_sessions, improved_purchase_rate) for k in k_values]\n\nplt.bar(k_values, binom_probs)\nplt.vlines(k_sales, 0, max(binom_probs), colors='r', label='k=100')\nplt.xlabel('Number of sales')\nplt.ylabel('Probability')\nplt.title('Binomial Probability Distribution for Returning Customers')\nplt.legend()\nplt.show()\n",
    "outputsMetadata": {
     "0": {
      "height": 38,
      "type": "stream"
     }
    }
   },
   "outputs": [
    {
     "name": "stdout",
     "output_type": "stream",
     "text": [
      "Probability of at least 100 sales: 0.9012246009073177\n"
     ]
    },
    {
     "data": {
      "image/png": "[encoded data removed]",
      "text/plain": [
       "<Figure size 640x480 with 1 Axes>"
      ]
     },
     "metadata": {},
     "output_type": "display_data"
    }
   ],
   "source": [
    "from scipy.stats import binom\n",
    "\n",
    "# Step 1: Calculate the improved purchase rate for returning customers\n",
    "current_purchase_rate = 0.195594  # From Step 1 results\n",
    "improved_purchase_rate = current_purchase_rate * 1.15\n",
    "\n",
    "# Step 2: Define the number of sessions and the target sales\n",
    "n_sessions = 500\n",
    "k_sales = 100\n",
    "\n",
    "# Step 3: Calculate the cumulative probability of having 100 or fewer sales\n",
    "prob_less_than_100 = binom.cdf(k_sales, n_sessions, improved_purchase_rate)\n",
    "\n",
    "# Step 4: Calculate the probability of having at least 100 sales\n",
    "prob_at_least_100_sales = 1 - prob_less_than_100\n",
    "\n",
    "print(f\"Probability of at least 100 sales: {prob_at_least_100_sales}\")\n",
    "\n",
    "# Optional: Plot the binomial probability distribution (optional)\n",
    "import matplotlib.pyplot as plt\n",
    "k_values = range(1, n_sessions + 1)\n",
    "binom_probs = [binom.pmf(k, n_sessions, improved_purchase_rate) for k in k_values]\n",
    "\n",
    "plt.bar(k_values, binom_probs)\n",
    "plt.vlines(k_sales, 0, max(binom_probs), colors='r', label='k=100')\n",
    "plt.xlabel('Number of sales')\n",
    "plt.ylabel('Probability')\n",
    "plt.title('Binomial Probability Distribution for Returning Customers')\n",
    "plt.legend()\n",
    "plt.show()\n"
   ]
  },
  {
   "cell_type": "markdown",
   "id": "cd3c31db-3d7a-41d6-8839-b9932098ac00",
   "metadata": {},
   "source": [
    "### Insights:\n",
    "* **Probability of Success:**\n",
    "With a 15% boost in the purchase rate for returning customers, there is a 90.1% chance of achieving at least 100 sales out of 500 sessions. This high probability suggests that the marketing campaign targeting returning customers has a strong chance of meeting its sales target.\n",
    "\n",
    "* **Key Takeaway:**\n",
    "The boosted purchase rate significantly increases the likelihood of achieving the sales goal, making this an optimistic outcome for the campaign. However, further analysis might be needed to confirm whether these results align with actual user behavior over a larger timeframe or during different promotional events."
   ]
  },
  {
   "cell_type": "code",
   "execution_count": null,
   "id": "6bcfe27c-d439-445c-96af-6da08108ab9f",
   "metadata": {},
   "outputs": [],
   "source": []
  }
 ],
 "metadata": {
  "editor": "DataLab",
  "kernelspec": {
   "display_name": "Python 3 (ipykernel)",
   "language": "python",
   "name": "python3"
  },
  "language_info": {
   "codemirror_mode": {
    "name": "ipython",
    "version": 3
   },
   "file_extension": ".py",
   "mimetype": "text/x-python",
   "name": "python",
   "nbconvert_exporter": "python",
   "pygments_lexer": "ipython3",
   "version": "3.11.7"
  }
 },
 "nbformat": 4,
 "nbformat_minor": 5
}
